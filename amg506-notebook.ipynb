{
 "cells": [
  {
   "cell_type": "markdown",
   "metadata": {},
   "source": [
    "# Arrests\n",
    "\n",
    "## Introduction\n",
    "For this project, I looked for the best neighborhood in Pittsburgh through analyzing police arrest data. I chose this data set because arrests and the safety of a neighborhood go hand in hand, with the city having the least arrests being safest.\n",
    "\n",
    "## The Metric\n",
    "My metric was the number of arrests in a neighborhood. I wanted to find the neighborhood with the least number of arrests. I used data from https://data.wprdc.org/dataset/arrest-data/resource/e03a89dd-134a-4ee8-a2bd-62c40aeebc6f, which has information on each arrest made in Pittsburgh.\n",
    "\n",
    "## The Best Neighborhood\n",
    "To find the best neighborhood based on arrest data, I first had to read the information in the dataset."
   ]
  },
  {
   "cell_type": "code",
   "execution_count": null,
   "metadata": {},
   "outputs": [],
   "source": [
    "import pandas as pd\n",
    "import matplotlib.pyplot as plt\n",
    "%matplotlib inline\n",
    "\n",
    "#store the dataset into a variable\n",
    "arrest_data = pd.read_csv(\"arrests.csv\")\n",
    "#view the data set\n",
    "arrest_data"
   ]
  },
  {
   "cell_type": "markdown",
   "metadata": {},
   "source": [
    "I believe Mt. Oliver Neighborhood is the best neighborhood because it has the least number of arrests.\n",
    "Evindently, we do not need all of the columns to properly interpret our dataset. To remove them, I wrote the following code:"
   ]
  },
  {
   "cell_type": "code",
   "execution_count": null,
   "metadata": {},
   "outputs": [],
   "source": [
    "#only include the column with details on the neighborhood where the incident occurred\n",
    "arrest_data = arrest_data.filter(items=[\"INCIDENTNEIGHBORHOOD\"])\n",
    "\n",
    "#display the resulting DataFrame\n",
    "arrest_data"
   ]
  },
  {
   "cell_type": "markdown",
   "metadata": {},
   "source": [
    "We have each individual arrest but we still need to group them together by neighborhood so we can compare these neighborhoods"
   ]
  },
  {
   "cell_type": "code",
   "execution_count": null,
   "metadata": {},
   "outputs": [],
   "source": [
    "#gets the data series which has the number of times each neighborhood showed up in this data set\n",
    "#also sorts it in ascending order to see which neighborhood has the least number of arrests at the top\n",
    "arrests_by_neighborhood = arrest_data.value_counts(ascending=True)\n",
    "#name the column with the number of arrests \"arrests\"\n",
    "arrests_by_neighborhood = pd.DataFrame(arrests_by_neighborhood, columns=[\"arrests\"])\n",
    "#view the newly labeled data set\n",
    "arrests_by_neighborhood\n",
    "#convert to dictionary for future calculations\n",
    "arrests_dict = arrests_by_neighborhood.to_dict()"
   ]
  },
  {
   "cell_type": "markdown",
   "metadata": {},
   "source": [
    "We can see that there are certain cities with much less arrests than others. By visualizing these findings, it's clear how significant this difference is."
   ]
  },
  {
   "cell_type": "code",
   "execution_count": null,
   "metadata": {},
   "outputs": [],
   "source": [
    "#use a bar plot to visualize arrests by each neighborhood\n",
    "arrests_by_neighborhood.plot.bar()"
   ]
  },
  {
   "cell_type": "markdown",
   "metadata": {},
   "source": [
    "That's a pretty crowded x-axis, filtering out the neighborhoods with more arrests would help make this more readable."
   ]
  },
  {
   "cell_type": "code",
   "execution_count": null,
   "metadata": {},
   "outputs": [],
   "source": [
    "#only include the values below 1500\n",
    "arrests_by_neighborhood_mask = arrests_by_neighborhood[\"arrests\"] < 1500\n",
    "arrests_by_neighborhood[arrests_by_neighborhood_mask].plot.bar()"
   ]
  },
  {
   "cell_type": "markdown",
   "metadata": {},
   "source": [
    "That's still too crowded."
   ]
  },
  {
   "cell_type": "code",
   "execution_count": null,
   "metadata": {},
   "outputs": [],
   "source": [
    "#only include the values below 200\n",
    "arrests_by_neighborhood_mask = arrests_by_neighborhood[\"arrests\"] < 200\n",
    "arrests_by_neighborhood[arrests_by_neighborhood_mask].plot.bar()"
   ]
  },
  {
   "cell_type": "markdown",
   "metadata": {},
   "source": [
    "We can clearly see that the number of incidents per neighborhood varies widely.\n",
    "\n",
    "Based on this data, it's clear that Mt. Oliver Neighborhood is the best neighborhood in Pittsburgh because it has the lowest number of arrests."
   ]
  },
  {
   "cell_type": "markdown",
   "metadata": {},
   "source": [
    "## Conclusion\n",
    "Looking at these results, it appears that Mt. Oliver Neighborhood is the best neighborhood in Pittsburgh, as I predicted earlier. I believe that safety of a neighborhood is very important in determining if it is the best, and arrest rates are an accurate way of quantifying this. However, not all people arrested are guilty; some arrests are unwarranted, meaning that this data set could be biased."
   ]
  }
 ],
 "metadata": {
  "kernelspec": {
   "display_name": "Python 3",
   "language": "python",
   "name": "python3"
  },
  "language_info": {
   "codemirror_mode": {
    "name": "ipython",
    "version": 3
   },
   "file_extension": ".py",
   "mimetype": "text/x-python",
   "name": "python",
   "nbconvert_exporter": "python",
   "pygments_lexer": "ipython3",
   "version": "3.8.3"
  }
 },
 "nbformat": 4,
 "nbformat_minor": 4
}
